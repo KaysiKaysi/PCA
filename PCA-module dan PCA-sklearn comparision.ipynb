{
 "cells": [
  {
   "cell_type": "code",
   "execution_count": 1,
   "metadata": {},
   "outputs": [
    {
     "data": {
      "application/javascript": [
       "IPython.notebook.set_autosave_interval(0)"
      ]
     },
     "metadata": {},
     "output_type": "display_data"
    },
    {
     "name": "stdout",
     "output_type": "stream",
     "text": [
      "Autosave disabled\n"
     ]
    }
   ],
   "source": [
    "%autosave 0"
   ]
  },
  {
   "cell_type": "markdown",
   "metadata": {},
   "source": [
    "# Dataset"
   ]
  },
  {
   "cell_type": "code",
   "execution_count": 2,
   "metadata": {},
   "outputs": [
    {
     "name": "stdout",
     "output_type": "stream",
     "text": [
      "[[ 1  2  3]\n",
      " [ 4  5  6]\n",
      " [ 7  8  9]\n",
      " [10 11 12]]\n"
     ]
    }
   ],
   "source": [
    "import numpy as np\n",
    "\n",
    "###### USE THIS DATA ########\n",
    "# define a matrix\n",
    "A = np.array([[1, 2, 3], [4, 5, 6], [7, 8, 9], [10, 11, 12]])\n",
    "print(A)\n",
    "###### USE THIS DATA ########"
   ]
  },
  {
   "cell_type": "markdown",
   "metadata": {},
   "source": [
    "# Create PCA and fit data"
   ]
  },
  {
   "cell_type": "code",
   "execution_count": 3,
   "metadata": {},
   "outputs": [],
   "source": [
    "# import PCA from sklearn\n",
    "from sklearn.decomposition import PCA as PCA_sklearn\n",
    "\n",
    "# import PCA from module\n",
    "from pca_mod import PCA as PCA_module"
   ]
  },
  {
   "cell_type": "code",
   "execution_count": 4,
   "metadata": {},
   "outputs": [],
   "source": [
    "# create PCA instabce\n",
    "\n",
    "pca_sklearn = PCA_sklearn(2)\n",
    "pca_module = PCA_module(2)"
   ]
  },
  {
   "cell_type": "code",
   "execution_count": 5,
   "metadata": {},
   "outputs": [],
   "source": [
    "# fit on data\n",
    "# fit function\n",
    "\n",
    "pca_sklearn.fit(A)\n",
    "pca_module.fit(A)"
   ]
  },
  {
   "cell_type": "markdown",
   "metadata": {},
   "source": [
    "# Compare attributes from module and sklearn"
   ]
  },
  {
   "cell_type": "code",
   "execution_count": 6,
   "metadata": {},
   "outputs": [
    {
     "name": "stdout",
     "output_type": "stream",
     "text": [
      "PCA sklearn mean :  [5.5 6.5 7.5]\n",
      "PCA module mean :  [5.5 6.5 7.5]\n"
     ]
    }
   ],
   "source": [
    "# access mean\n",
    "\n",
    "print('PCA sklearn mean : ', pca_sklearn.mean_)\n",
    "print('PCA module mean : ', pca_module.mean_)"
   ]
  },
  {
   "cell_type": "code",
   "execution_count": 10,
   "metadata": {},
   "outputs": [
    {
     "name": "stdout",
     "output_type": "stream",
     "text": [
      "PCA sklearn covariance : \n",
      "[[15. 15. 15.]\n",
      " [15. 15. 15.]\n",
      " [15. 15. 15.]]\n",
      "\n",
      "\n",
      "PCA module covariance : \n",
      "[[15. 15. 15.]\n",
      " [15. 15. 15.]\n",
      " [15. 15. 15.]]\n"
     ]
    }
   ],
   "source": [
    "# access covariance\n",
    "\n",
    "print('PCA sklearn covariance : ')\n",
    "print(pca_sklearn.get_covariance())\n",
    "print('\\n')\n",
    "print('PCA module covariance : ')\n",
    "print(pca_module.covariance_)"
   ]
  },
  {
   "cell_type": "code",
   "execution_count": 11,
   "metadata": {},
   "outputs": [
    {
     "name": "stdout",
     "output_type": "stream",
     "text": [
      "PCA sklearn eigen values : \n",
      "[45.  0.]\n",
      "\n",
      "\n",
      "PCA module eigen values : \n",
      "[45.  0.]\n"
     ]
    }
   ],
   "source": [
    "# access eigenvalues\n",
    "\n",
    "print('PCA sklearn eigen values : ')\n",
    "print(pca_sklearn.explained_variance_)\n",
    "print('\\n')\n",
    "print('PCA module eigen values : ')\n",
    "print(pca_module.explained_variance_)"
   ]
  },
  {
   "cell_type": "code",
   "execution_count": 13,
   "metadata": {},
   "outputs": [
    {
     "name": "stdout",
     "output_type": "stream",
     "text": [
      "PCA sklearn eigen values ratio : \n",
      "[1. 0.]\n",
      "\n",
      "\n",
      "PCA module eigen values ratio : \n",
      "[1. 0.]\n"
     ]
    }
   ],
   "source": [
    "# access eigenvalues ratio\n",
    "\n",
    "print('PCA sklearn eigen values ratio : ')\n",
    "print(pca_sklearn.explained_variance_ratio_)\n",
    "print('\\n')\n",
    "print('PCA module eigen values ratio : ')\n",
    "print(pca_module.explained_variance_ratio_)"
   ]
  },
  {
   "cell_type": "code",
   "execution_count": 14,
   "metadata": {},
   "outputs": [
    {
     "name": "stdout",
     "output_type": "stream",
     "text": [
      "PCA sklearn eigen vectors : \n",
      "[[ 0.57735027  0.57735027  0.57735027]\n",
      " [ 0.         -0.70710678  0.70710678]]\n",
      "\n",
      "\n",
      "PCA module eigen vectors : \n",
      "[[ 0.57735027  0.57735027  0.57735027]\n",
      " [ 0.         -0.70710678  0.70710678]]\n"
     ]
    }
   ],
   "source": [
    "# access eigenvectors\n",
    "\n",
    "print('PCA sklearn eigen vectors : ')\n",
    "print(pca_sklearn.components_)\n",
    "print('\\n')\n",
    "print('PCA module eigen vectors : ')\n",
    "print(pca_module.components_)"
   ]
  },
  {
   "cell_type": "markdown",
   "metadata": {},
   "source": [
    "# Compare methods from module and sklearn"
   ]
  },
  {
   "cell_type": "code",
   "execution_count": 16,
   "metadata": {},
   "outputs": [
    {
     "name": "stdout",
     "output_type": "stream",
     "text": [
      "PCA sklearn transform function output : \n",
      "[[-7.79422863e+00 -1.77635684e-15]\n",
      " [-2.59807621e+00 -4.44089210e-16]\n",
      " [ 2.59807621e+00  4.44089210e-16]\n",
      " [ 7.79422863e+00  1.77635684e-15]]\n",
      "\n",
      "\n",
      "PCA module transform function output : \n",
      "[[-7.79422863e+00 -4.44089210e-16]\n",
      " [-2.59807621e+00 -2.22044605e-16]\n",
      " [ 2.59807621e+00  2.22044605e-16]\n",
      " [ 7.79422863e+00  4.44089210e-16]]\n"
     ]
    }
   ],
   "source": [
    "# fit function already applied above\n",
    "# transform function\n",
    "\n",
    "A_sk = pca_sklearn.transform(A)\n",
    "A_md = pca_module.transform(A)\n",
    "\n",
    "print('PCA sklearn transform function output : ')\n",
    "print(A_sk)\n",
    "print('\\n')\n",
    "print('PCA module transform function output : ')\n",
    "print(A_md)"
   ]
  },
  {
   "cell_type": "code",
   "execution_count": 17,
   "metadata": {},
   "outputs": [
    {
     "name": "stdout",
     "output_type": "stream",
     "text": [
      "PCA sklearn inverse transform function output : \n",
      "[[ 1.  2.  3.]\n",
      " [ 4.  5.  6.]\n",
      " [ 7.  8.  9.]\n",
      " [10. 11. 12.]]\n",
      "\n",
      "\n",
      "PCA module inverse transform function output : \n",
      "[[ 1.  2.  3.]\n",
      " [ 4.  5.  6.]\n",
      " [ 7.  8.  9.]\n",
      " [10. 11. 12.]]\n"
     ]
    }
   ],
   "source": [
    "# reverse transform function\n",
    "# revert from transformed matrix to original matrix\n",
    "\n",
    "B_sk = pca_sklearn.inverse_transform(A_sk)\n",
    "B_md = pca_module.inverse_transform(A_md)\n",
    "\n",
    "print('PCA sklearn inverse transform function output : ')\n",
    "print(B_sk)\n",
    "print('\\n')\n",
    "print('PCA module inverse transform function output : ')\n",
    "print(B_md)"
   ]
  }
 ],
 "metadata": {
  "kernelspec": {
   "display_name": "Python 3",
   "language": "python",
   "name": "python3"
  },
  "language_info": {
   "codemirror_mode": {
    "name": "ipython",
    "version": 3
   },
   "file_extension": ".py",
   "mimetype": "text/x-python",
   "name": "python",
   "nbconvert_exporter": "python",
   "pygments_lexer": "ipython3",
   "version": "3.7.6"
  }
 },
 "nbformat": 4,
 "nbformat_minor": 4
}
